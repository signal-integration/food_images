{
 "cells": [
  {
   "cell_type": "code",
   "execution_count": 39,
   "metadata": {
    "collapsed": true
   },
   "outputs": [],
   "source": [
    "from selenium import webdriver\n",
    "import urllib\n",
    "from selenium.webdriver.common.keys import Keys\n",
    "\n",
    "def download_image(key_word):\n",
    "    driver = webdriver.Chrome('/Users/antonio/anaconda/bin/chromedriver')\n",
    "    url=\"http://images.google.com/search?q=\" + key_word + \"&tbm=isch&sout=1\"\n",
    "    driver.get(url)\n",
    "    imageXpathSelector='//*[@id=\"ires\"]/table/tbody/tr[1]/td[3]/a/img'\n",
    "    img=driver.find_element_by_xpath(imageXpathSelector)\n",
    "    src=(img.get_attribute('src'))\n",
    "    urllib.urlretrieve(src, key_word + \".jpg\")\n",
    "    driver.close()"
   ]
  },
  {
   "cell_type": "code",
   "execution_count": 11,
   "metadata": {
    "collapsed": true
   },
   "outputs": [],
   "source": [
    "ingredients = ['almond', 'apricot', 'artichoke', 'arugula', 'asparagus']"
   ]
  },
  {
   "cell_type": "code",
   "execution_count": 13,
   "metadata": {
    "collapsed": true
   },
   "outputs": [],
   "source": [
    "import pandas as pd"
   ]
  },
  {
   "cell_type": "code",
   "execution_count": 18,
   "metadata": {
    "collapsed": true
   },
   "outputs": [],
   "source": [
    "ingredients_df = pd.read_csv('../ingredients.csv')"
   ]
  },
  {
   "cell_type": "code",
   "execution_count": 19,
   "metadata": {
    "collapsed": true
   },
   "outputs": [],
   "source": [
    "ingredients = ingredients_df.x.tolist()"
   ]
  },
  {
   "cell_type": "code",
   "execution_count": 22,
   "metadata": {
    "collapsed": true
   },
   "outputs": [],
   "source": [
    "for ingredient in ingredients:\n",
    "    try: \n",
    "        download_image(ingredient)\n",
    "    except IOError:\n",
    "        continue"
   ]
  },
  {
   "cell_type": "code",
   "execution_count": 41,
   "metadata": {},
   "outputs": [],
   "source": [
    "download_image('raspberry')"
   ]
  },
  {
   "cell_type": "code",
   "execution_count": null,
   "metadata": {
    "collapsed": true
   },
   "outputs": [],
   "source": []
  }
 ],
 "metadata": {
  "kernelspec": {
   "display_name": "Python 2",
   "language": "python",
   "name": "python2"
  },
  "language_info": {
   "codemirror_mode": {
    "name": "ipython",
    "version": 2
   },
   "file_extension": ".py",
   "mimetype": "text/x-python",
   "name": "python",
   "nbconvert_exporter": "python",
   "pygments_lexer": "ipython2",
   "version": "2.7.13"
  }
 },
 "nbformat": 4,
 "nbformat_minor": 2
}
